{
  "nbformat": 4,
  "nbformat_minor": 0,
  "metadata": {
    "colab": {
      "provenance": [],
      "authorship_tag": "ABX9TyMoYNJ/aHufYCJ41NQ884x0",
      "include_colab_link": true
    },
    "kernelspec": {
      "name": "python3",
      "display_name": "Python 3"
    },
    "language_info": {
      "name": "python"
    }
  },
  "cells": [
    {
      "cell_type": "markdown",
      "metadata": {
        "id": "view-in-github",
        "colab_type": "text"
      },
      "source": [
        "<a href=\"https://colab.research.google.com/github/azmd801/ineuron-assignments/blob/main/basic-python/Programming_Assignment_4.ipynb\" target=\"_parent\"><img src=\"https://colab.research.google.com/assets/colab-badge.svg\" alt=\"Open In Colab\"/></a>"
      ]
    },
    {
      "cell_type": "markdown",
      "source": [
        "### 1. Write a Python Program to Find the Factorial of a Number?"
      ],
      "metadata": {
        "id": "LsIwYXPi6K0b"
      }
    },
    {
      "cell_type": "code",
      "execution_count": 9,
      "metadata": {
        "colab": {
          "base_uri": "https://localhost:8080/"
        },
        "id": "Csw9i3aE6CID",
        "outputId": "21493907-228e-4c61-bf5d-fff1338f41fe"
      },
      "outputs": [
        {
          "output_type": "stream",
          "name": "stdout",
          "text": [
            "1\n",
            "1\n",
            "720\n",
            "3628800\n"
          ]
        }
      ],
      "source": [
        "def factorial(n):\n",
        "  product=1\n",
        "  for i in range(1,n+1):\n",
        "    product *= i\n",
        "  return product\n",
        "\n",
        "# testing the function\n",
        "print(factorial(0))\n",
        "print(factorial(1))\n",
        "print(factorial(6))\n",
        "print(factorial(10))"
      ]
    },
    {
      "cell_type": "markdown",
      "source": [
        "### 2. Write a Python Program to Display the multiplication Table?"
      ],
      "metadata": {
        "id": "_asw3CmL7gKb"
      }
    },
    {
      "cell_type": "code",
      "source": [
        "def table_of(num):\n",
        "  for i in range(1,11):\n",
        "    print(f\"{num} x {i} = {num * i}\")\n",
        "  print('\\n')\n",
        "\n",
        "# testing function\n",
        "table_of(2)\n",
        "table_of(5)\n",
        "table_of(19)"
      ],
      "metadata": {
        "colab": {
          "base_uri": "https://localhost:8080/"
        },
        "id": "NYZk1mWX61J8",
        "outputId": "b7561958-b4aa-4662-a3bb-01d6cde03a09"
      },
      "execution_count": 11,
      "outputs": [
        {
          "output_type": "stream",
          "name": "stdout",
          "text": [
            "2 x 1 = 2\n",
            "2 x 2 = 4\n",
            "2 x 3 = 6\n",
            "2 x 4 = 8\n",
            "2 x 5 = 10\n",
            "2 x 6 = 12\n",
            "2 x 7 = 14\n",
            "2 x 8 = 16\n",
            "2 x 9 = 18\n",
            "2 x 10 = 20\n",
            "\n",
            "\n",
            "5 x 1 = 5\n",
            "5 x 2 = 10\n",
            "5 x 3 = 15\n",
            "5 x 4 = 20\n",
            "5 x 5 = 25\n",
            "5 x 6 = 30\n",
            "5 x 7 = 35\n",
            "5 x 8 = 40\n",
            "5 x 9 = 45\n",
            "5 x 10 = 50\n",
            "\n",
            "\n",
            "19 x 1 = 19\n",
            "19 x 2 = 38\n",
            "19 x 3 = 57\n",
            "19 x 4 = 76\n",
            "19 x 5 = 95\n",
            "19 x 6 = 114\n",
            "19 x 7 = 133\n",
            "19 x 8 = 152\n",
            "19 x 9 = 171\n",
            "19 x 10 = 190\n",
            "\n",
            "\n"
          ]
        }
      ]
    },
    {
      "cell_type": "markdown",
      "source": [
        "### 3. Write a Python Program to Print the Fibonacci sequence?"
      ],
      "metadata": {
        "id": "55W8z6UC8na-"
      }
    },
    {
      "cell_type": "code",
      "source": [
        "#using recursion\n",
        "def fibonacci(x):\n",
        "  if x == 0 or x == 1:\n",
        "    return x\n",
        "\n",
        "  return fibonacci(x - 1) + fibonacci(x - 2)\n",
        "\n",
        "# testing the function\n",
        "print(fibonacci(0))\n",
        "print(fibonacci(1))\n",
        "print(fibonacci(2))\n",
        "print(fibonacci(14))"
      ],
      "metadata": {
        "colab": {
          "base_uri": "https://localhost:8080/"
        },
        "id": "oNWX6BfQ8OZj",
        "outputId": "1b1c38e3-5716-4301-f4b8-eaaa79819e61"
      },
      "execution_count": 16,
      "outputs": [
        {
          "output_type": "stream",
          "name": "stdout",
          "text": [
            "0\n",
            "1\n",
            "1\n",
            "377\n"
          ]
        }
      ]
    },
    {
      "cell_type": "code",
      "source": [
        "#using iteration\n",
        "def fibonacci(n):\n",
        "  first_term = 0\n",
        "  sec_term = 1\n",
        "\n",
        "  if n == first_term:\n",
        "    return first_term\n",
        "\n",
        "  if n == sec_term:\n",
        "    return sec_term  \n",
        "  \n",
        "  term = 0\n",
        "  for i in range(2,n+1):\n",
        "    term = first_term + sec_term\n",
        "    first_term = sec_term\n",
        "    sec_term = term\n",
        "\n",
        "  return term\n",
        "\n",
        "# testing the function\n",
        "print(fibonacci(0))\n",
        "print(fibonacci(1))\n",
        "print(fibonacci(2))\n",
        "print(fibonacci(3))\n",
        "print(fibonacci(4))\n",
        "print(fibonacci(14))"
      ],
      "metadata": {
        "colab": {
          "base_uri": "https://localhost:8080/"
        },
        "id": "pw76nB-e9qlL",
        "outputId": "efa8af19-c625-46f8-fac8-fbbc6ff55a5c"
      },
      "execution_count": 22,
      "outputs": [
        {
          "output_type": "stream",
          "name": "stdout",
          "text": [
            "0\n",
            "1\n",
            "1\n",
            "2\n",
            "3\n",
            "377\n"
          ]
        }
      ]
    },
    {
      "cell_type": "markdown",
      "source": [
        "### 4. Write a Python Program to Check Armstrong Number?"
      ],
      "metadata": {
        "id": "1mkqcueYELi5"
      }
    },
    {
      "cell_type": "code",
      "source": [
        "def is_armstrong(num):\n",
        "  # calculating the sum of each digit raised to the power of number of digit\n",
        "  n= len(str(num))\n",
        "  sum = 0\n",
        "  for digit in str(num):\n",
        "    sum += int(digit)**n\n",
        "  \n",
        "  if sum == num:\n",
        "    return True\n",
        "\n",
        "  return False\n",
        "\n",
        "# testing the function\n",
        "print(is_armstrong(1)) \n",
        "print(is_armstrong(898)) \n",
        "print(is_armstrong(153)) \n"
      ],
      "metadata": {
        "colab": {
          "base_uri": "https://localhost:8080/"
        },
        "id": "xSm3FzKADG-k",
        "outputId": "114a1bb4-d869-480b-90c3-fd41641d968e"
      },
      "execution_count": 31,
      "outputs": [
        {
          "output_type": "stream",
          "name": "stdout",
          "text": [
            "True\n",
            "False\n",
            "True\n"
          ]
        }
      ]
    },
    {
      "cell_type": "markdown",
      "source": [
        "5. Write a Python Program to Find Armstrong Number in an Interval?"
      ],
      "metadata": {
        "id": "e3yozu-TGFHJ"
      }
    },
    {
      "cell_type": "code",
      "source": [
        "def print_armstrong_in(interval1,interval2):\n",
        "  for i in range(interval1,interval2+1):\n",
        "    if is_armstrong(i):\n",
        "      print(i)\n",
        "\n",
        "# testing the function\n",
        "print_armstrong_in(1,500)"
      ],
      "metadata": {
        "colab": {
          "base_uri": "https://localhost:8080/"
        },
        "id": "OZC_CGTmFvqJ",
        "outputId": "5f733dca-3fab-4b82-b871-410de1535089"
      },
      "execution_count": 35,
      "outputs": [
        {
          "output_type": "stream",
          "name": "stdout",
          "text": [
            "1\n",
            "2\n",
            "3\n",
            "4\n",
            "5\n",
            "6\n",
            "7\n",
            "8\n",
            "9\n",
            "153\n",
            "370\n",
            "371\n",
            "407\n"
          ]
        }
      ]
    },
    {
      "cell_type": "markdown",
      "source": [],
      "metadata": {
        "id": "4KdMSsUOJGeX"
      }
    },
    {
      "cell_type": "markdown",
      "source": [
        "6. Write a Python Program to Find the Sum of Natural Numbers?"
      ],
      "metadata": {
        "id": "nq6Xl-7tH7MB"
      }
    },
    {
      "cell_type": "code",
      "source": [
        "def natural_num_sum(n):\n",
        "  sum = 0\n",
        "  for i in range(1,n+1):\n",
        "    sum += i\n",
        "\n",
        "  return(sum)\n",
        "\n",
        "# testing the function\n",
        "print(natural_num_sum(3))\n",
        "print(natural_num_sum(5))\n",
        "print(natural_num_sum(19))\n",
        "print(natural_num_sum(100))"
      ],
      "metadata": {
        "colab": {
          "base_uri": "https://localhost:8080/"
        },
        "id": "LH-mtYkVGt5D",
        "outputId": "76002fb9-b490-4f8f-b534-251b8b22e08c"
      },
      "execution_count": 38,
      "outputs": [
        {
          "output_type": "stream",
          "name": "stdout",
          "text": [
            "6\n",
            "15\n",
            "190\n",
            "5050\n"
          ]
        }
      ]
    },
    {
      "cell_type": "code",
      "source": [],
      "metadata": {
        "id": "qH2jO1_WId2G"
      },
      "execution_count": null,
      "outputs": []
    }
  ]
}