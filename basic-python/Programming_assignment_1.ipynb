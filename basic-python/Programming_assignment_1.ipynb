{
  "nbformat": 4,
  "nbformat_minor": 0,
  "metadata": {
    "colab": {
      "provenance": [],
      "authorship_tag": "ABX9TyNV1Ystvf/Pmq6NrPqLG0Pz",
      "include_colab_link": true
    },
    "kernelspec": {
      "name": "python3",
      "display_name": "Python 3"
    },
    "language_info": {
      "name": "python"
    }
  },
  "cells": [
    {
      "cell_type": "markdown",
      "metadata": {
        "id": "view-in-github",
        "colab_type": "text"
      },
      "source": [
        "<a href=\"https://colab.research.google.com/github/azmd801/ineuron-assignments/blob/main/basic-python/Programming_assignment_1.ipynb\" target=\"_parent\"><img src=\"https://colab.research.google.com/assets/colab-badge.svg\" alt=\"Open In Colab\"/></a>"
      ]
    },
    {
      "cell_type": "markdown",
      "source": [
        "1. Write a Python program to print &quot;Hello Python&quot;?"
      ],
      "metadata": {
        "id": "rHrUeCcA7kjs"
      }
    },
    {
      "cell_type": "code",
      "source": [
        "print('Hello Python')"
      ],
      "metadata": {
        "colab": {
          "base_uri": "https://localhost:8080/"
        },
        "id": "2VAPCA0-7puO",
        "outputId": "83ff6308-9084-4e82-d78f-b9ef1521b63a"
      },
      "execution_count": 1,
      "outputs": [
        {
          "output_type": "stream",
          "name": "stdout",
          "text": [
            "Hello Python\n"
          ]
        }
      ]
    },
    {
      "cell_type": "markdown",
      "source": [
        "2. Write a Python program to do arithmetical operations addition and division.?"
      ],
      "metadata": {
        "id": "NLcZGJLZ71Cb"
      }
    },
    {
      "cell_type": "code",
      "source": [
        "print(f\"5 + 6 = {5 + 6} \")"
      ],
      "metadata": {
        "colab": {
          "base_uri": "https://localhost:8080/"
        },
        "id": "Uf9Uy8Us71qa",
        "outputId": "0b6ef84d-f151-4eb2-a700-1a53808dee86"
      },
      "execution_count": 7,
      "outputs": [
        {
          "output_type": "stream",
          "name": "stdout",
          "text": [
            "5 + 6 = 11 \n"
          ]
        }
      ]
    },
    {
      "cell_type": "markdown",
      "source": [
        "3. Write a Python program to find the area of a triangle?"
      ],
      "metadata": {
        "id": "TkCuXLnx8Ui7"
      }
    },
    {
      "cell_type": "code",
      "source": [
        "height = 5\n",
        "base = 5\n",
        "area = 1/2 * base * height\n",
        "print('Area of the triangle is',area)"
      ],
      "metadata": {
        "colab": {
          "base_uri": "https://localhost:8080/"
        },
        "id": "aZgjHtf48WcC",
        "outputId": "cd72c327-d55c-430f-aaa7-eb39fc1cbdd2"
      },
      "execution_count": 2,
      "outputs": [
        {
          "output_type": "stream",
          "name": "stdout",
          "text": [
            "Area of the triangle is 12.5\n"
          ]
        }
      ]
    },
    {
      "cell_type": "markdown",
      "source": [
        "4. Write a Python program to swap two variables?"
      ],
      "metadata": {
        "id": "JteszvgR8oVM"
      }
    },
    {
      "cell_type": "code",
      "source": [
        "first_var = 4\n",
        "second_var = 5\n",
        "print('before swapping first vairable = {}, second variable = {}\\n'.format(first_var,second_var))\n",
        "temp = second_var\n",
        "second_var = first_var\n",
        "first_var = temp\n",
        "print('After swapping first vairable = {}, second variable = {}\\n'.format(first_var,second_var))"
      ],
      "metadata": {
        "colab": {
          "base_uri": "https://localhost:8080/"
        },
        "id": "6P7gU4Ms8k5X",
        "outputId": "925010ed-99d5-4ad8-a4d0-e7a39637a363"
      },
      "execution_count": 3,
      "outputs": [
        {
          "output_type": "stream",
          "name": "stdout",
          "text": [
            "before swapping first vairable = 4, second variable = 5\n",
            "\n",
            "After swapping first vairable = 5, second variable = 4\n",
            "\n"
          ]
        }
      ]
    },
    {
      "cell_type": "markdown",
      "source": [
        "5. Write a Python program to generate a random number?"
      ],
      "metadata": {
        "id": "ejtIDokI9kKd"
      }
    },
    {
      "cell_type": "code",
      "source": [
        "from random import random\n",
        "random_number = random()\n",
        "print(f'Generated random number is {random_number}')"
      ],
      "metadata": {
        "colab": {
          "base_uri": "https://localhost:8080/"
        },
        "id": "r4w3ZO539dsb",
        "outputId": "ccc7d1a0-c56c-451a-c89f-8e67254c5f0b"
      },
      "execution_count": 6,
      "outputs": [
        {
          "output_type": "stream",
          "name": "stdout",
          "text": [
            "Generated random number is 0.7044063708765375\n"
          ]
        }
      ]
    },
    {
      "cell_type": "code",
      "source": [],
      "metadata": {
        "id": "ymTaK4crCZLS"
      },
      "execution_count": null,
      "outputs": []
    }
  ]
}