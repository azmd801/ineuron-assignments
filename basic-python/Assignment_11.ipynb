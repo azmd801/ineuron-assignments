{
  "nbformat": 4,
  "nbformat_minor": 0,
  "metadata": {
    "colab": {
      "provenance": [],
      "authorship_tag": "ABX9TyP/nDIlRZzV6IknYVPEgz1n",
      "include_colab_link": true
    },
    "kernelspec": {
      "name": "python3",
      "display_name": "Python 3"
    },
    "language_info": {
      "name": "python"
    }
  },
  "cells": [
    {
      "cell_type": "markdown",
      "metadata": {
        "id": "view-in-github",
        "colab_type": "text"
      },
      "source": [
        "<a href=\"https://colab.research.google.com/github/azmd801/ineuron-assignments/blob/main/basic-python/Assignment_11.ipynb\" target=\"_parent\"><img src=\"https://colab.research.google.com/assets/colab-badge.svg\" alt=\"Open In Colab\"/></a>"
      ]
    },
    {
      "cell_type": "markdown",
      "source": [
        "1. Create an assert statement that throws an AssertionError if the variable spam is a negative\n",
        "integer.\n",
        "\n",
        "`assert spam >= 0, \"Variable 'spam' should not be a negative integer\"`"
      ],
      "metadata": {
        "id": "f1_wrQZJwMqD"
      }
    },
    {
      "cell_type": "markdown",
      "source": [
        "2. Write an assert statement that triggers an AssertionError if the variables eggs and bacon contain\n",
        "strings that are the same as each other, even if their cases are different (that is, &#39;hello&#39; and &#39;hello&#39; are\n",
        "considered the same, and &#39;goodbye&#39; and &#39;GOODbye&#39; are also considered the same).\n",
        "\n",
        "`assert eggs.lower() != bacon.lower(), \"Variables 'eggs' and 'bacon' should not have the same case-insensitive value\"`"
      ],
      "metadata": {
        "id": "0y0a_3KRwQ8Z"
      }
    },
    {
      "cell_type": "markdown",
      "source": [
        "3. Create an assert statement that throws an AssertionError every time.\n",
        "\n",
        "`assert False, \"This assert statement will always trigger an AssertionError\"`"
      ],
      "metadata": {
        "id": "KMppzOlywToZ"
      }
    },
    {
      "cell_type": "markdown",
      "source": [
        "4. What are the two lines that must be present in your software in order to call logging.debug()?\n",
        "\n",
        "`import logging`  \n",
        "`logging.basicConfig(level=logging.DEBUG)`"
      ],
      "metadata": {
        "id": "hV5fHpvvwVSc"
      }
    },
    {
      "cell_type": "markdown",
      "source": [
        "5. What are the two lines that your program must have in order to have logging.debug() send a\n",
        "logging message to a file named programLog.txt?\n",
        "\n",
        "`import logging`\n",
        "\n",
        "`# Configure logging to send messages to a file`\n",
        "\n",
        "`logging.basicConfig(filename='programLog.txt', level=logging.DEBUG)`"
      ],
      "metadata": {
        "id": "knm31s5TwWuA"
      }
    },
    {
      "cell_type": "markdown",
      "source": [
        "6. What are the five levels of logging?\n",
        "\n",
        "The five levels of logging, from lowest to highest severity, are:\n",
        "\n",
        "* DEBUG\n",
        "* INFO\n",
        "* WARNING\n",
        "* ERROR\n",
        "* CRITICAL"
      ],
      "metadata": {
        "id": "6h_ugkEZwa0j"
      }
    },
    {
      "cell_type": "markdown",
      "source": [
        "7. What line of code would you add to your software to disable all logging messages?\n",
        "\n",
        "`logging.disable(logging.CRITICAL)`"
      ],
      "metadata": {
        "id": "o5izs6OjwcRQ"
      }
    },
    {
      "cell_type": "markdown",
      "source": [
        "8.Why is using logging messages better than using print() to display the same message?\n",
        "\n",
        "Using logging messages is better than using print() to display the same message for several reasons:\n",
        "\n",
        "* Logging can be easily configured to control which messages are displayed based on severity levels.\n",
        "* Logging provides timestamp information, making it easier to track when events occurred.\n",
        "* Logging messages can be directed to different outputs, like files, consoles, or other custom handlers.\n",
        "* Logging can be controlled globally, making it easier to enable or disable all logging messages."
      ],
      "metadata": {
        "id": "fsshrJIqwdfo"
      }
    },
    {
      "cell_type": "markdown",
      "source": [
        "9. What are the differences between the Step Over, Step In, and Step Out buttons in the debugger?\n",
        "\n",
        "In a debugger:\n",
        "\n",
        "* \"Step Over\" means to execute the current line and move to the next line in the current function or method.\n",
        "* \"Step In\" means to move to the next line and, if the current line is a function or method call, step into that function or method.\n",
        "* \"Step Out\" means to continue execution until the current function or method returns."
      ],
      "metadata": {
        "id": "mcFq7CDUweq7"
      }
    },
    {
      "cell_type": "markdown",
      "source": [
        "10. After you click Continue, when will the debugger stop ?\n",
        "\n",
        "After clicking \"Continue\" in the debugger, the debugger will stop when it encounters the next breakpoint, an unhandled exception, or when the program's execution is complete."
      ],
      "metadata": {
        "id": "rGEutQxLwf-L"
      }
    },
    {
      "cell_type": "markdown",
      "source": [
        "11. What is the concept of a breakpoint?\n",
        "\n",
        "A breakpoint is a designated point in the code where the debugger will pause the program's execution. It allows you to inspect the program's state, variables, and flow at that specific point, aiding in debugging and analysis."
      ],
      "metadata": {
        "id": "Cct8VCcJwhRo"
      }
    }
  ]
}