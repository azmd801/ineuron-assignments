{
  "cells": [
    {
      "cell_type": "markdown",
      "metadata": {
        "id": "view-in-github",
        "colab_type": "text"
      },
      "source": [
        "<a href=\"https://colab.research.google.com/github/azmd801/ineuron-assignments/blob/main/basic-python/Programming_asssignnment_19.ipynb\" target=\"_parent\"><img src=\"https://colab.research.google.com/assets/colab-badge.svg\" alt=\"Open In Colab\"/></a>"
      ]
    },
    {
      "cell_type": "markdown",
      "id": "8916e6e1",
      "metadata": {
        "id": "8916e6e1"
      },
      "source": [
        "# Question 1"
      ]
    },
    {
      "cell_type": "code",
      "execution_count": null,
      "id": "ff5cd926",
      "metadata": {
        "id": "ff5cd926"
      },
      "outputs": [],
      "source": [
        "def double_char(s: str) -> str:\n",
        "    return ''.join([char*2 for char in s])\n",
        "\n",
        "# Test the function\n",
        "print(double_char(\"String\"))\n",
        "print(double_char(\"Hello World!\"))\n",
        "print(double_char(\"1234!_ \"))\n"
      ]
    },
    {
      "cell_type": "markdown",
      "id": "5ee2944a",
      "metadata": {
        "id": "5ee2944a"
      },
      "source": [
        "# Question 2"
      ]
    },
    {
      "cell_type": "code",
      "execution_count": null,
      "id": "a7a8e44e",
      "metadata": {
        "id": "a7a8e44e"
      },
      "outputs": [],
      "source": [
        "def reverse(val):\n",
        "    if type(val) is bool:\n",
        "        return not val\n",
        "    else:\n",
        "        return \"boolean expected\"\n",
        "\n",
        "# Test the function\n",
        "print(reverse(True))\n",
        "print(reverse(False))\n",
        "print(reverse(0))\n",
        "print(reverse(None))\n"
      ]
    },
    {
      "cell_type": "markdown",
      "id": "e59d7b73",
      "metadata": {
        "id": "e59d7b73"
      },
      "source": [
        "# Question 3"
      ]
    },
    {
      "cell_type": "code",
      "execution_count": null,
      "id": "81b85155",
      "metadata": {
        "id": "81b85155"
      },
      "outputs": [],
      "source": [
        "def num_layers(n: int) -> str:\n",
        "    thickness_mm = 0.5 * (2**n)\n",
        "    thickness_m = thickness_mm / 1000\n",
        "    return f\"{thickness_m}m\"\n",
        "\n",
        "# Test the function\n",
        "print(num_layers(1))\n",
        "print(num_layers(4))\n",
        "print(num_layers(21))\n"
      ]
    },
    {
      "cell_type": "markdown",
      "id": "96913cf6",
      "metadata": {
        "id": "96913cf6"
      },
      "source": [
        "# Question 4"
      ]
    },
    {
      "cell_type": "code",
      "execution_count": null,
      "id": "ba671689",
      "metadata": {
        "id": "ba671689"
      },
      "outputs": [],
      "source": [
        "def index_of_caps(s: str):\n",
        "    return [i for i, char in enumerate(s) if char.isupper()]\n",
        "\n",
        "# Test the function\n",
        "print(index_of_caps(\"eDaBiT\"))\n",
        "print(index_of_caps(\"eQuINoX\"))\n",
        "print(index_of_caps(\"determine\"))\n",
        "print(index_of_caps(\"STRIKE\"))\n",
        "print(index_of_caps(\"sUn\"))\n"
      ]
    },
    {
      "cell_type": "markdown",
      "id": "bae707d7",
      "metadata": {
        "id": "bae707d7"
      },
      "source": [
        "# Question 5"
      ]
    },
    {
      "cell_type": "code",
      "execution_count": null,
      "id": "6b4e7049",
      "metadata": {
        "id": "6b4e7049"
      },
      "outputs": [],
      "source": [
        "def find_even_nums(num: int):\n",
        "    return [i for i in range(1, num+1) if i % 2 == 0]\n",
        "\n",
        "# Test the function\n",
        "print(find_even_nums(8))\n",
        "print(find_even_nums(4))\n",
        "print(find_even_nums(2))\n"
      ]
    }
  ],
  "metadata": {
    "colab": {
      "provenance": [],
      "include_colab_link": true
    }
  },
  "nbformat": 4,
  "nbformat_minor": 5
}