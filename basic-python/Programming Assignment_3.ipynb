{
  "nbformat": 4,
  "nbformat_minor": 0,
  "metadata": {
    "colab": {
      "provenance": [],
      "authorship_tag": "ABX9TyPK+9LgJCjQ2r3Ms8TBcaA2",
      "include_colab_link": true
    },
    "kernelspec": {
      "name": "python3",
      "display_name": "Python 3"
    },
    "language_info": {
      "name": "python"
    }
  },
  "cells": [
    {
      "cell_type": "markdown",
      "metadata": {
        "id": "view-in-github",
        "colab_type": "text"
      },
      "source": [
        "<a href=\"https://colab.research.google.com/github/azmd801/ineuron-assignments/blob/main/basic-python/Programming%20Assignment_3.ipynb\" target=\"_parent\"><img src=\"https://colab.research.google.com/assets/colab-badge.svg\" alt=\"Open In Colab\"/></a>"
      ]
    },
    {
      "cell_type": "markdown",
      "source": [
        "1. Write a Python Program to Check if a Number is Positive, Negative or Zero?"
      ],
      "metadata": {
        "id": "XTiDo1ii8zIY"
      }
    },
    {
      "cell_type": "code",
      "execution_count": 10,
      "metadata": {
        "colab": {
          "base_uri": "https://localhost:8080/"
        },
        "id": "BK0PmtI88Zle",
        "outputId": "e8a61311-3fbf-4289-9185-32ff05b862cb"
      },
      "outputs": [
        {
          "output_type": "stream",
          "name": "stdout",
          "text": [
            "Enter an number, 0.4\n",
            "Entered number is Positive\n"
          ]
        }
      ],
      "source": [
        "# asking user to enter number\n",
        "num = float(input('Enter an number, '))\n",
        "if num < 0:\n",
        "  print('Entered number is Negative')\n",
        "elif num > 0:\n",
        "  print('Entered number is Positive')\n",
        "else:\n",
        "  print('Entered number is zero')"
      ]
    },
    {
      "cell_type": "markdown",
      "source": [
        "2. Write a Python Program to Check if a Number is Odd or Even?"
      ],
      "metadata": {
        "id": "yZAQemKT-HVw"
      }
    },
    {
      "cell_type": "code",
      "source": [
        "# asking user to enter number\n",
        "num = int(input('Enter an number, '))\n",
        "if num % 2 == 0:\n",
        "  print('Entered num is even')\n",
        "else:\n",
        "  print('Entered num is odd')"
      ],
      "metadata": {
        "colab": {
          "base_uri": "https://localhost:8080/"
        },
        "id": "yux0Umk59oo5",
        "outputId": "29b065f3-c604-4553-e6a0-5565f0cda75f"
      },
      "execution_count": 9,
      "outputs": [
        {
          "output_type": "stream",
          "name": "stdout",
          "text": [
            "Enter an number, 4\n",
            "Entered num is even\n"
          ]
        }
      ]
    },
    {
      "cell_type": "markdown",
      "source": [
        "3. Write a Python Program to Check Leap Year?"
      ],
      "metadata": {
        "id": "Scx7pbtk_WXv"
      }
    },
    {
      "cell_type": "code",
      "source": [
        "year = int(input('Enter the year, '))\n",
        "\n",
        "#checking the criteria of leap year\n",
        "\n",
        "if year % 4 == 0:\n",
        "    if year % 100 != 0:\n",
        "      print(f'{year} is leap year')\n",
        "    else:\n",
        "      if year % 400 == 0:\n",
        "        print(f'{year} is leap year')\n",
        "      else:\n",
        "        print(f'{year} is not leap year')\n",
        "else:\n",
        "  print(f'{year} is not leap year')\n"
      ],
      "metadata": {
        "colab": {
          "base_uri": "https://localhost:8080/"
        },
        "id": "9xFBC8mV-lls",
        "outputId": "e2467edb-34c8-40d4-a178-7dd7a0dfa804"
      },
      "execution_count": 13,
      "outputs": [
        {
          "output_type": "stream",
          "name": "stdout",
          "text": [
            "Enter the year, 2016\n",
            "2016 is leap year\n"
          ]
        }
      ]
    },
    {
      "cell_type": "markdown",
      "source": [
        "4. Write a Python Program to Check Prime Number?"
      ],
      "metadata": {
        "id": "f2j29BaqCPSk"
      }
    },
    {
      "cell_type": "code",
      "source": [
        "# creating function to check primenumber\n",
        "def isprime(num):\n",
        "\n",
        "  if num == 2 or num == 1:\n",
        "    return True\n",
        "\n",
        "  for i in range(2,num):\n",
        "    if num % i == 0:\n",
        "      return False\n",
        "  \n",
        "  return True\n",
        "\n",
        "# asking user to enter number\n",
        "num = int(input('Enter an number, '))\n",
        "if isprime(num):\n",
        "  print(f'{num} is prime number')\n",
        "else:\n",
        "  print(f'{num} is composite number')"
      ],
      "metadata": {
        "colab": {
          "base_uri": "https://localhost:8080/"
        },
        "id": "4ADhvqaW-tIX",
        "outputId": "c66011c4-d867-4e46-d38a-2726156c99c7"
      },
      "execution_count": 19,
      "outputs": [
        {
          "output_type": "stream",
          "name": "stdout",
          "text": [
            "Enter an number, 1\n",
            "1 is prime number\n"
          ]
        }
      ]
    },
    {
      "cell_type": "markdown",
      "source": [
        "5. Write a Python Program to Print all Prime Numbers in an Interval of 1-10000?"
      ],
      "metadata": {
        "id": "CjQ0eRtsEl4r"
      }
    },
    {
      "cell_type": "code",
      "source": [
        "print('All Prime Numbers in an Interval of 1-10000 are: \\n')\n",
        "for i in range(1,1001):\n",
        "  # check if a num is prime using fuction created for previous problem \n",
        "  if isprime(i):\n",
        "    print(i)"
      ],
      "metadata": {
        "colab": {
          "base_uri": "https://localhost:8080/"
        },
        "id": "di0tStbcEECr",
        "outputId": "d3b882c6-476b-424f-ac3f-7f2fdc90f064"
      },
      "execution_count": 21,
      "outputs": [
        {
          "output_type": "stream",
          "name": "stdout",
          "text": [
            "All Prime Numbers in an Interval of 1-10000 are: \n",
            "\n",
            "1\n",
            "2\n",
            "3\n",
            "5\n",
            "7\n",
            "11\n",
            "13\n",
            "17\n",
            "19\n",
            "23\n",
            "29\n",
            "31\n",
            "37\n",
            "41\n",
            "43\n",
            "47\n",
            "53\n",
            "59\n",
            "61\n",
            "67\n",
            "71\n",
            "73\n",
            "79\n",
            "83\n",
            "89\n",
            "97\n",
            "101\n",
            "103\n",
            "107\n",
            "109\n",
            "113\n",
            "127\n",
            "131\n",
            "137\n",
            "139\n",
            "149\n",
            "151\n",
            "157\n",
            "163\n",
            "167\n",
            "173\n",
            "179\n",
            "181\n",
            "191\n",
            "193\n",
            "197\n",
            "199\n",
            "211\n",
            "223\n",
            "227\n",
            "229\n",
            "233\n",
            "239\n",
            "241\n",
            "251\n",
            "257\n",
            "263\n",
            "269\n",
            "271\n",
            "277\n",
            "281\n",
            "283\n",
            "293\n",
            "307\n",
            "311\n",
            "313\n",
            "317\n",
            "331\n",
            "337\n",
            "347\n",
            "349\n",
            "353\n",
            "359\n",
            "367\n",
            "373\n",
            "379\n",
            "383\n",
            "389\n",
            "397\n",
            "401\n",
            "409\n",
            "419\n",
            "421\n",
            "431\n",
            "433\n",
            "439\n",
            "443\n",
            "449\n",
            "457\n",
            "461\n",
            "463\n",
            "467\n",
            "479\n",
            "487\n",
            "491\n",
            "499\n",
            "503\n",
            "509\n",
            "521\n",
            "523\n",
            "541\n",
            "547\n",
            "557\n",
            "563\n",
            "569\n",
            "571\n",
            "577\n",
            "587\n",
            "593\n",
            "599\n",
            "601\n",
            "607\n",
            "613\n",
            "617\n",
            "619\n",
            "631\n",
            "641\n",
            "643\n",
            "647\n",
            "653\n",
            "659\n",
            "661\n",
            "673\n",
            "677\n",
            "683\n",
            "691\n",
            "701\n",
            "709\n",
            "719\n",
            "727\n",
            "733\n",
            "739\n",
            "743\n",
            "751\n",
            "757\n",
            "761\n",
            "769\n",
            "773\n",
            "787\n",
            "797\n",
            "809\n",
            "811\n",
            "821\n",
            "823\n",
            "827\n",
            "829\n",
            "839\n",
            "853\n",
            "857\n",
            "859\n",
            "863\n",
            "877\n",
            "881\n",
            "883\n",
            "887\n",
            "907\n",
            "911\n",
            "919\n",
            "929\n",
            "937\n",
            "941\n",
            "947\n",
            "953\n",
            "967\n",
            "971\n",
            "977\n",
            "983\n",
            "991\n",
            "997\n"
          ]
        }
      ]
    },
    {
      "cell_type": "code",
      "source": [],
      "metadata": {
        "id": "jm-wOEg_Fi7i"
      },
      "execution_count": null,
      "outputs": []
    }
  ]
}