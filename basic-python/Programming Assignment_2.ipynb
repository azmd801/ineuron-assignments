{
  "nbformat": 4,
  "nbformat_minor": 0,
  "metadata": {
    "colab": {
      "provenance": [],
      "authorship_tag": "ABX9TyPzAZP689OAJ/9ty5wHjzm9",
      "include_colab_link": true
    },
    "kernelspec": {
      "name": "python3",
      "display_name": "Python 3"
    },
    "language_info": {
      "name": "python"
    }
  },
  "cells": [
    {
      "cell_type": "markdown",
      "metadata": {
        "id": "view-in-github",
        "colab_type": "text"
      },
      "source": [
        "<a href=\"https://colab.research.google.com/github/azmd801/ineuron-assignments/blob/main/basic-python/Programming%20Assignment_3.ipynb\" target=\"_parent\"><img src=\"https://colab.research.google.com/assets/colab-badge.svg\" alt=\"Open In Colab\"/></a>"
      ]
    },
    {
      "cell_type": "code",
      "execution_count": null,
      "metadata": {
        "id": "DXp5Kv-IGBjp"
      },
      "outputs": [],
      "source": []
    },
    {
      "cell_type": "markdown",
      "source": [
        "1. Write a Python program to convert kilometers to miles?"
      ],
      "metadata": {
        "id": "Oir8DteKGCf9"
      }
    },
    {
      "cell_type": "code",
      "source": [
        "distance_in_km = float(input('Distance in km = '))\n",
        "disatane_in_miles = 0.621371*distance_in_km\n",
        "print(f'Distance in miles = {disatane_in_miles}')"
      ],
      "metadata": {
        "colab": {
          "base_uri": "https://localhost:8080/"
        },
        "id": "bwY2xB8mGDNG",
        "outputId": "7683b5c9-0ab0-4720-8c21-a374144c933f"
      },
      "execution_count": 1,
      "outputs": [
        {
          "output_type": "stream",
          "name": "stdout",
          "text": [
            "Distance in km = 5\n",
            "Distance in miles = 3.106855\n"
          ]
        }
      ]
    },
    {
      "cell_type": "markdown",
      "source": [
        "2. Write a Python program to convert Celsius to Fahrenheit?"
      ],
      "metadata": {
        "id": "oofMqANykgvY"
      }
    },
    {
      "cell_type": "code",
      "source": [
        "temp_in_cel = float(input('Temperature in celcius = '))\n",
        "temp_in_farenheit = 9/5 * temp_in_cel + 32\n",
        "print(f'Temperature in Farenheit = {temp_in_farenheit}')"
      ],
      "metadata": {
        "colab": {
          "base_uri": "https://localhost:8080/"
        },
        "id": "aQEpDb-BkbKJ",
        "outputId": "667370c7-2992-4b4a-b22a-4ba5b4d818a1"
      },
      "execution_count": 5,
      "outputs": [
        {
          "output_type": "stream",
          "name": "stdout",
          "text": [
            "Temperature in celcius = 37\n",
            "Temperature in Farenheit = 98.60000000000001\n"
          ]
        }
      ]
    },
    {
      "cell_type": "markdown",
      "source": [
        "Write a Python program to display calendar?"
      ],
      "metadata": {
        "id": "yLAot4PiluBw"
      }
    },
    {
      "cell_type": "code",
      "source": [
        "import calendar\n",
        "# asking user to enter year and month of the reequired calender\n",
        "year = int(input('Enter the year: '))\n",
        "month = int(input('Enter the month: '))\n",
        "print('\\n',calendar.month(year,month))"
      ],
      "metadata": {
        "colab": {
          "base_uri": "https://localhost:8080/"
        },
        "id": "jXccChkLlXXp",
        "outputId": "08009262-ac6e-4735-97a0-cce00a676a4b"
      },
      "execution_count": 30,
      "outputs": [
        {
          "output_type": "stream",
          "name": "stdout",
          "text": [
            "Enter the year: 2023\n",
            "Enter the month: 1\n",
            "\n",
            "     January 2023\n",
            "Mo Tu We Th Fr Sa Su\n",
            "                   1\n",
            " 2  3  4  5  6  7  8\n",
            " 9 10 11 12 13 14 15\n",
            "16 17 18 19 20 21 22\n",
            "23 24 25 26 27 28 29\n",
            "30 31\n",
            "\n"
          ]
        }
      ]
    },
    {
      "cell_type": "markdown",
      "source": [
        "Write a Python program to solve quadratic equation?2"
      ],
      "metadata": {
        "id": "ybj_eg3WlwTf"
      }
    },
    {
      "cell_type": "code",
      "source": [
        "# asking user to enter the coefficients of the equation\n",
        "a = float(input(\"Enter values of a of equation ax2 + bx + c, a = \"))\n",
        "b = float(input(\"Enter values of b of equation ax2 + bx + c, b = \"))\n",
        "c = float(input(\"Enter values of c of equation ax2 + bx + c, c = \"))\n",
        "# checking if solution is comlex of real\n",
        "d = b**2 -4*a*c \n",
        "if d < 0:\n",
        "  imaginary = (-d)**0.5\n",
        "  x1,x2 = complex(-b,imaginary)/(2*a),complex(-b,-imaginary)/(2*a)\n",
        "else:\n",
        "  x1,x2 = (-b + d**0.5)/(2*a),(-b - d**0.5)/(2*a)\n",
        "\n",
        "print(f'''\\nSolutions of equation {a}x2 + {b}x + {c} are:\n",
        "\n",
        "x1 = {x1}\n",
        "x2 = {x2}\n",
        "''')\n",
        " "
      ],
      "metadata": {
        "colab": {
          "base_uri": "https://localhost:8080/"
        },
        "id": "aVsAzcgBlzvg",
        "outputId": "0e035228-3145-482d-cb31-72ccb3c6310d"
      },
      "execution_count": 23,
      "outputs": [
        {
          "output_type": "stream",
          "name": "stdout",
          "text": [
            "Enter values of a of equation ax2 + bx + c, a = 1\n",
            "Enter values of b of equation ax2 + bx + c, b = 1\n",
            "Enter values of c of equation ax2 + bx + c, c = 1\n",
            "\n",
            "Solutions of equation 1.0x2 + 1.0x + 1.0 are:\n",
            "\n",
            "x1 = (-0.5+0.8660254037844386j)\n",
            "x2 = (-0.5-0.8660254037844386j)\n",
            "\n"
          ]
        }
      ]
    },
    {
      "cell_type": "markdown",
      "source": [
        "5. Write a Python program to swap two variables without temp variable?"
      ],
      "metadata": {
        "id": "Zi94myR0vCfp"
      }
    },
    {
      "cell_type": "code",
      "source": [
        "print('Before Swaping:')\n",
        "first_var = input('First varibale = ')\n",
        "sec_var = input('Second varibale = ')\n",
        "# swapping the variables\n",
        "first_var,sec_var = sec_var,first_var\n",
        "print(f\"\"\"\\nAfter Swaping:\n",
        "First variable = {first_var}\n",
        "Second variable = {sec_var}\n",
        "\"\"\")\n"
      ],
      "metadata": {
        "colab": {
          "base_uri": "https://localhost:8080/"
        },
        "id": "m4QhTaaMuGFF",
        "outputId": "1ee5fb9b-7d38-44b7-d8d8-1079f014f29b"
      },
      "execution_count": 25,
      "outputs": [
        {
          "output_type": "stream",
          "name": "stdout",
          "text": [
            "Before Swaping:\n",
            "First varibale = d\n",
            "Second varibale = g\n",
            "\n",
            "After Swaping:\n",
            "First variable = g\n",
            "Second variable = d\n",
            "\n"
          ]
        }
      ]
    },
    {
      "cell_type": "code",
      "source": [],
      "metadata": {
        "id": "lpHnAGU-wGvH"
      },
      "execution_count": null,
      "outputs": []
    }
  ]
}
