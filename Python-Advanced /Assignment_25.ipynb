{
  "nbformat": 4,
  "nbformat_minor": 0,
  "metadata": {
    "colab": {
      "provenance": [],
      "authorship_tag": "ABX9TyN+OeP0X6zL2U9QfgztUO0n",
      "include_colab_link": true
    },
    "kernelspec": {
      "name": "python3",
      "display_name": "Python 3"
    },
    "language_info": {
      "name": "python"
    }
  },
  "cells": [
    {
      "cell_type": "markdown",
      "metadata": {
        "id": "view-in-github",
        "colab_type": "text"
      },
      "source": [
        "<a href=\"https://colab.research.google.com/github/azmd801/ineuron-assignments/blob/main/Python-Advanced%20/Assignment_25.ipynb\" target=\"_parent\"><img src=\"https://colab.research.google.com/assets/colab-badge.svg\" alt=\"Open In Colab\"/></a>"
      ]
    },
    {
      "cell_type": "markdown",
      "source": [
        "### Q1. What is the distinction between a numpy array and a pandas data frame? Is there a way to convert between the two if there is?\n",
        "\n",
        "A: A numpy array is a multi-dimensional array that contains elements of the same data type. It is primarily used for numerical computations and supports vectorized operations. A pandas DataFrame, on the other hand, is a two-dimensional labeled data structure with columns that can contain different data types. It is more suitable for tabular data and includes additional functionalities like indexing, labeling, and handling missing data.\n",
        "\n",
        "Yes, it is possible to convert between a numpy array and a pandas DataFrame. You can create a pandas DataFrame from a numpy array using the `pd.DataFrame()` constructor. Conversely, you can extract the underlying numpy array from a pandas DataFrame using the `.values` attribute.\n",
        "\n",
        "### Q2. What can go wrong when a user enters in a stock-ticker symbol, and how do you handle it?\n",
        "\n",
        "A: When a user enters a stock-ticker symbol, several issues can arise, including invalid or non-existent symbols, incorrect formatting, or missing data. To handle these situations, you can implement error handling mechanisms, such as using try-except blocks to catch exceptions raised when fetching data, validating the user input format, and providing meaningful error messages to guide the user.\n",
        "\n",
        "### Q3. Identify some of the plotting techniques that are used to produce a stock-market chart.\n",
        "\n",
        "A: Some common plotting techniques used to produce stock-market charts include line charts for price trends, candlestick charts for displaying open, close, high, and low prices, volume bars for trading volume, and moving average lines for smoothing price trends.\n",
        "\n",
        "### Q4. Why is it essential to print a legend on a stock market chart?\n",
        "\n",
        "A: Printing a legend on a stock market chart is essential because it provides context for the different elements displayed on the chart. A legend explains the meaning of each line, bar, or data point, making the chart more understandable to viewers. It helps users identify the data represented by different colors or patterns and enhances the chart's readability.\n",
        "\n",
        "### Q5. What is the best way to limit the length of a pandas data frame to less than a year?\n",
        "\n",
        "A: To limit the length of a pandas DataFrame to less than a year, you can use DataFrame slicing or filtering techniques based on date indices. For example, you can use the `.loc[]` indexer with date ranges to select rows within the desired time frame.\n",
        "\n",
        "### Q6. What is the definition of a 180-day moving average?\n",
        "\n",
        "A: A 180-day moving average is a technical analysis tool used to smooth out price fluctuations in a stock's price data. It calculates the average price over the past 180 trading days and is updated daily. This moving average provides a longer-term perspective on price trends, helping to identify the overall direction of the stock's movement.\n"
      ],
      "metadata": {
        "id": "76A6vaIEVgUb"
      }
    }
  ]
}