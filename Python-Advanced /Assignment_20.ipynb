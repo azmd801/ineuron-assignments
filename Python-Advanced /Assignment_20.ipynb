{
  "nbformat": 4,
  "nbformat_minor": 0,
  "metadata": {
    "colab": {
      "provenance": [],
      "authorship_tag": "ABX9TyPGBBnN9NVUzY9ulZShFIVt",
      "include_colab_link": true
    },
    "kernelspec": {
      "name": "python3",
      "display_name": "Python 3"
    },
    "language_info": {
      "name": "python"
    }
  },
  "cells": [
    {
      "cell_type": "markdown",
      "metadata": {
        "id": "view-in-github",
        "colab_type": "text"
      },
      "source": [
        "<a href=\"https://colab.research.google.com/github/azmd801/ineuron-assignments/blob/main/Python-Advanced%20/Assignment_20.ipynb\" target=\"_parent\"><img src=\"https://colab.research.google.com/assets/colab-badge.svg\" alt=\"Open In Colab\"/></a>"
      ]
    },
    {
      "cell_type": "markdown",
      "source": [
        "### Q1. Compare and contrast the `float` and `Decimal` classes' benefits and drawbacks.\n",
        "\n",
        "A: The `float` class represents floating-point numbers with limited precision and is suitable for most everyday calculations. However, it can suffer from rounding errors due to its limited precision. The `Decimal` class, on the other hand, is used for arbitrary-precision decimal arithmetic. It provides higher precision and accuracy for financial calculations and decimal-based computations but may be slower and consume more memory compared to `float`.\n",
        "\n",
        "### Q2. `Decimal('1.200')` and `Decimal('1.2')` are two objects to consider. In what sense are these the same object? Are these just two ways of representing the exact same value, or do they correspond to different internal states?\n",
        "\n",
        "A: These are not the same object, but they represent the same value. Both `Decimal` objects represent the exact same decimal value, and the difference in representation arises due to the number of significant digits used to display the value.\n",
        "\n",
        "### Q3. What happens if the equality of `Decimal('1.200')` and `Decimal('1.2')` is checked?\n",
        "\n",
        "A: If the equality of `Decimal('1.200')` and `Decimal('1.2')` is checked using the `==` operator, the result will be `True`. Both `Decimal` objects represent the same decimal value, and the comparison considers the values themselves rather than their string representations.\n",
        "\n",
        "### Q4. Why is it preferable to start a `Decimal` object with a string rather than a floating-point value?\n",
        "\n",
        "A: Starting a `Decimal` object with a string ensures that the decimal value is accurately represented without any rounding errors. Converting a floating-point value to `Decimal` directly may introduce inaccuracies due to the inherent limitations of floating-point representation.\n",
        "\n",
        "### Q5. In an arithmetic phrase, how simple is it to combine `Decimal` objects with integers?\n",
        "\n",
        "A: Combining `Decimal` objects with integers is straightforward and does not introduce any additional complexities. Arithmetic operations between `Decimal` objects and integers maintain the desired precision and accuracy.\n",
        "\n",
        "### Q6. Can `Decimal` objects and floating-point values be combined easily?\n",
        "\n",
        "A: Yes, `Decimal` objects and floating-point values can be combined in arithmetic operations. However, care should be taken when mixing these two types to avoid potential precision loss due to the limitations of floating-point representation.\n",
        "\n",
        "### Q7. Using the `Fraction` class but not the `Decimal` class, give an example of a quantity that can be expressed with absolute precision.\n",
        "\n",
        "A: An example of a quantity that can be expressed with absolute precision using the `Fraction` class is `Fraction(3, 5)`.\n",
        "\n",
        "### Q8. Describe a quantity that can be accurately expressed by the `Decimal` or `Fraction` classes but not by a floating-point value.\n",
        "\n",
        "A: A repeating decimal, such as `1/3` (0.333...), can be accurately expressed using the `Decimal` or `Fraction` classes without any loss of precision. However, representing such a repeating decimal using a floating-point value would result in rounding errors.\n",
        "\n",
        "### Q9. Consider the following two fraction objects: `Fraction(1, 2)` and `Fraction(1, 2). (5, 10)`. Is the internal state of these two objects the same? Why do you think that is?\n",
        "\n",
        "A: The internal state of these two `Fraction` objects is not the same. The second `Fraction` object `Fraction(1, 2). (5, 10)` has additional parentheses and a fraction `(5, 10)` appended to it, making it a distinct object with a different internal state.\n",
        "\n",
        "### Q10. How do the `Fraction` class and the integer type (`int`) relate to each other? Containment or inheritance?\n",
        "\n",
        "A: The `Fraction` class and the integer type (`int`) are related through containment. The `Fraction` class allows you to create fractions from integers, where the numerator and denominator are stored as `int` values."
      ],
      "metadata": {
        "id": "iS-O4AI9QGVl"
      }
    }
  ]
}