{
  "nbformat": 4,
  "nbformat_minor": 0,
  "metadata": {
    "colab": {
      "provenance": [],
      "authorship_tag": "ABX9TyPfUzviayRwWGv1tYf9QOjc",
      "include_colab_link": true
    },
    "kernelspec": {
      "name": "python3",
      "display_name": "Python 3"
    },
    "language_info": {
      "name": "python"
    }
  },
  "cells": [
    {
      "cell_type": "markdown",
      "metadata": {
        "id": "view-in-github",
        "colab_type": "text"
      },
      "source": [
        "<a href=\"https://colab.research.google.com/github/azmd801/ineuron-assignments/blob/main/Python-Advanced%20/Assignment_17.ipynb\" target=\"_parent\"><img src=\"https://colab.research.google.com/assets/colab-badge.svg\" alt=\"Open In Colab\"/></a>"
      ]
    },
    {
      "cell_type": "markdown",
      "source": [
        "## Q1. Explain the difference between greedy and non-greedy syntax with visual terms in as few words as possible. What is the bare minimum effort required to transform a greedy pattern into a non-greedy one? What characters or characters can you introduce or change?\n",
        "\n",
        "A: Greedy syntax matches the longest possible substring that satisfies the pattern, while non-greedy (lazy) syntax matches the shortest. To transform a greedy pattern to non-greedy, add a question mark (?) after the quantifier. For example, change \".*\" to \".*?\".\n",
        "\n",
        "## Q2. When exactly does greedy versus non-greedy make a difference?  What if you're looking for a non-greedy match but the only one available is greedy?\n",
        "\n",
        "A: Greedy versus non-greedy matters when patterns overlap. If the only available match is greedy, you might need to modify the pattern to make it non-greedy and find the shortest match.\n",
        "\n",
        "## Q3. In a simple match of a string, which looks only for one match and does not do any replacement, is the use of a nontagged group likely to make any practical difference?\n",
        "\n",
        "A: In a simple match, a nontagged group doesn't make a practical difference, as its purpose is to capture but not store matched text.\n",
        "\n",
        "## Q4. Describe a scenario in which using a nontagged category would have a significant impact on the program's outcomes.\n",
        "\n",
        "A: Using a nontagged category in scenarios where captured groups are not needed, but capturing could affect performance or memory usage.\n",
        "\n",
        "## Q5. Unlike a normal regex pattern, a look-ahead condition does not consume the characters it examines. Describe a situation in which this could make a difference in the results of your programme.\n",
        "\n",
        "A: Look-ahead conditions are used to assert specific conditions ahead in the pattern without consuming characters. This can be useful when validating patterns like email addresses without consuming the whole address.\n",
        "\n",
        "## Q6. In standard expressions, what is the difference between positive look-ahead and negative look-ahead?\n",
        "\n",
        "A: Positive look-ahead asserts that a pattern must be followed by another pattern. Negative look-ahead asserts that a pattern must not be followed by another pattern.\n",
        "\n",
        "## Q7. What is the benefit of referring to groups by name rather than by number in a standard expression?\n",
        "\n",
        "A: Referring to groups by name makes the regular expression more readable and maintainable, especially in complex patterns. It improves code clarity and avoids confusion.\n",
        "\n",
        "## Q8. Can you identify repeated items within a target string using named groups, as in \"The cow jumped over the moon\"?\n",
        "\n",
        "A: Yes, named groups allow you to capture and reference repeated items within a target string. For example, capturing repeated words: \"(?P<word>\\w+) (?P=word)\".\n",
        "\n",
        "## Q9. When parsing a string, what is at least one thing that the Scanner interface does for you that the re.findall feature does not?\n",
        "\n",
        "A: The Scanner interface provides tokenization and parsing capabilities for strings, helping to extract structured information. Unlike re.findall, it supports iteration over tokens.\n",
        "\n",
        "## Q10. Does a scanner object have to be named scanner?\n",
        "\n",
        "A: No, a scanner object can have any valid variable name. Naming it 'scanner' is a convention but not a requirement."
      ],
      "metadata": {
        "id": "xHkrKiS1z8a9"
      }
    }
  ]
}