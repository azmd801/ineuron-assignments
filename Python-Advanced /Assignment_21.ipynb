{
  "nbformat": 4,
  "nbformat_minor": 0,
  "metadata": {
    "colab": {
      "provenance": [],
      "authorship_tag": "ABX9TyOPaOI3iwubA68FIs4ut9tz",
      "include_colab_link": true
    },
    "kernelspec": {
      "name": "python3",
      "display_name": "Python 3"
    },
    "language_info": {
      "name": "python"
    }
  },
  "cells": [
    {
      "cell_type": "markdown",
      "metadata": {
        "id": "view-in-github",
        "colab_type": "text"
      },
      "source": [
        "<a href=\"https://colab.research.google.com/github/azmd801/ineuron-assignments/blob/main/Python-Advanced%20/Assignment_21.ipynb\" target=\"_parent\"><img src=\"https://colab.research.google.com/assets/colab-badge.svg\" alt=\"Open In Colab\"/></a>"
      ]
    },
    {
      "cell_type": "markdown",
      "source": [
        "### Q1. What is a probability distribution, exactly? If the values are meant to be random, how can you predict them at all?\n",
        "\n",
        "A: A probability distribution is a statistical function that describes the likelihood of different outcomes in a random experiment or event. While the individual values may be random, the distribution provides insights into the overall pattern of outcomes, allowing us to make predictions about the likelihood of certain values occurring.\n",
        "\n",
        "### Q2. Is there a distinction between true random numbers and pseudo-random numbers, if there is one? Why are the latter considered \"good enough\"?\n",
        "\n",
        "A: Yes, there is a distinction. True random numbers are generated from truly unpredictable sources, such as physical processes like radioactive decay. Pseudo-random numbers, on the other hand, are generated using algorithms that mimic randomness but are deterministic in nature. Pseudo-random numbers are considered \"good enough\" for most applications because they exhibit statistical properties of randomness and are computationally efficient to generate.\n",
        "\n",
        "### Q3. What are the two main factors that influence the behavior of a \"normal\" probability distribution?\n",
        "\n",
        "A: The two main factors that influence the behavior of a normal probability distribution are the mean (average) and the standard deviation. The mean determines the central location of the distribution, while the standard deviation determines the spread or dispersion of the values around the mean.\n",
        "\n",
        "### Q4. Provide a real-life example of a normal distribution.\n",
        "\n",
        "A: One real-life example of a normal distribution is the distribution of heights in a population. In many populations, heights tend to follow a bell-shaped curve, with most people having average heights around the mean and fewer people having heights that deviate significantly from the mean.\n",
        "\n",
        "### Q5. In the short term, how can you expect a probability distribution to behave? What do you think will happen as the number of trials grows?\n",
        "\n",
        "A: In the short term, the behavior of a probability distribution may exhibit randomness, and individual outcomes can be unpredictable. However, as the number of trials (experiments) grows, the distribution will tend to converge towards its expected shape. This is known as the law of large numbers, which states that the average of a large number of independent trials will approach the expected value.\n",
        "\n",
        "### Q6. What kind of object can be shuffled by using `random.shuffle`?\n",
        "\n",
        "A: The `random.shuffle` function can shuffle a mutable sequence object, such as a list.\n",
        "\n",
        "### Q7. Describe the `math` package's general categories of functions.\n",
        "\n",
        "A: The `math` package's general categories of functions include mathematical operations (e.g., square root, exponentiation), trigonometric functions (e.g., sine, cosine), logarithmic functions, and numerical constants (e.g., π, e).\n",
        "\n",
        "### Q8. What is the relationship between exponentiation and logarithms?\n",
        "\n",
        "A: Exponentiation and logarithms are inverse operations. If `a` raised to the power of `b` equals `c` (a^b = c), then the logarithm base `a` of `c` is equal to `b` (log_a(c) = b).\n",
        "\n",
        "### Q9. What are the three logarithmic functions that Python supports?\n",
        "\n",
        "A: Python supports three logarithmic functions: `math.log(x)`, which computes the natural logarithm (base e) of `x`, `math.log10(x)`, which computes the base-10 logarithm of `x`, and `math.log2(x)`, which computes the base-2 logarithm of `x`."
      ],
      "metadata": {
        "id": "w837gmwlRT7_"
      }
    }
  ]
}