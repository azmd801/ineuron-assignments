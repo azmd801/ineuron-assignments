{
  "nbformat": 4,
  "nbformat_minor": 0,
  "metadata": {
    "colab": {
      "provenance": [],
      "authorship_tag": "ABX9TyNRF1PfGAwGu12m+9aYttnT",
      "include_colab_link": true
    },
    "kernelspec": {
      "name": "python3",
      "display_name": "Python 3"
    },
    "language_info": {
      "name": "python"
    }
  },
  "cells": [
    {
      "cell_type": "markdown",
      "metadata": {
        "id": "view-in-github",
        "colab_type": "text"
      },
      "source": [
        "<a href=\"https://colab.research.google.com/github/azmd801/ineuron-assignments/blob/main/Python-Advanced%20/Assignment_22.ipynb\" target=\"_parent\"><img src=\"https://colab.research.google.com/assets/colab-badge.svg\" alt=\"Open In Colab\"/></a>"
      ]
    },
    {
      "cell_type": "markdown",
      "source": [
        "### Q1. What are the benefits of the built-in `array` package, if any?\n",
        "\n",
        "A: The built-in `array` package in Python provides a way to create arrays that are more memory-efficient compared to lists. It is useful for working with large datasets and numerical computations.\n",
        "\n",
        "### Q2. What are some of the array package's limitations?\n",
        "\n",
        "A: Some limitations of the built-in `array` package include the inability to perform element-wise operations, lack of mathematical functions, and limited support for multi-dimensional arrays.\n",
        "\n",
        "### Q3. Describe the main differences between the `array` and `numpy` packages.\n",
        "\n",
        "A: The `numpy` package is a third-party library that provides advanced array manipulation capabilities, support for mathematical functions, multi-dimensional arrays, and efficient element-wise operations. The built-in `array` package is more basic and lacks many of the features offered by `numpy`.\n",
        "\n",
        "### Q4. Explain the distinctions between the `empty`, `ones`, and `zeros` functions.\n",
        "\n",
        "A: The `empty` function creates an array without initializing its values, `ones` creates an array filled with ones, and `zeros` creates an array filled with zeros.\n",
        "\n",
        "### Q5. In the `fromfunction` function, which is used to construct new arrays, what is the role of the callable argument?\n",
        "\n",
        "A: The `fromfunction` function constructs an array by applying a callable function to each coordinate along the specified dimensions. The callable function defines how the values are calculated based on the coordinates.\n",
        "\n",
        "### Q6. What happens when a numpy array is combined with a single-value operand (a scalar, such as an int or a floating-point value) through addition, as in the expression A + n?\n",
        "\n",
        "A: The scalar operand is broadcasted to all elements of the numpy array, and element-wise addition is performed between the array and the scalar.\n",
        "\n",
        "### Q7. Can array-to-scalar operations use combined operation-assign operators (such as += or *=)? What is the outcome?\n",
        "\n",
        "A: Yes, array-to-scalar operations can use combined operation-assign operators. The outcome is that the operation is applied element-wise between the array and the scalar, and the result is assigned back to the array.\n",
        "\n",
        "### Q8. Does a numpy array contain fixed-length strings? What happens if you allocate a longer string to one of these arrays?\n",
        "\n",
        "A: Yes, numpy arrays can contain fixed-length strings. If you allocate a longer string to one of these arrays, the string will be truncated to fit within the fixed length. No error will occur, but data may be lost.\n",
        "\n",
        "### Q9. What happens when you combine two numpy arrays using an operation like addition (+) or multiplication (*)? What are the conditions for combining two numpy arrays?\n",
        "\n",
        "A: When you combine two numpy arrays using addition or multiplication, element-wise arithmetic operations are performed between corresponding elements of the arrays. The arrays must have compatible shapes (or be broadcastable) to perform these operations.\n",
        "\n",
        "### Q10. What is the best way to use a Boolean array to mask another array?\n",
        "\n",
        "A: The best way to use a Boolean array as a mask for another array is to directly index the array using the Boolean mask. This will return elements from the array where the corresponding Boolean value in the mask is `True`.\n",
        "\n",
        "### Q11. What are three different ways to get the standard deviation of a wide collection of data using both standard Python and its packages? Sort the three of them by how quickly they execute.\n",
        "\n",
        "A: Three ways to get the standard deviation are:\n",
        "1. Using the `statistics` module: `statistics.stdev(data)`\n",
        "2. Using the built-in `math` module: `math.sqrt(sum((x - mean)**2 for x in data) / len(data))`\n",
        "3. Using the `numpy` package: `numpy.std(data)`\n",
        "\n",
        "### Q12. What is the dimensionality of a Boolean mask-generated array?\n",
        "\n",
        "A: The dimensionality of a Boolean mask-generated array is the same as that of the original array. The Boolean mask is used to select elements from the original array based on the specified condition, maintaining the array's dimensionality."
      ],
      "metadata": {
        "id": "78FdQiOYS1dR"
      }
    }
  ]
}