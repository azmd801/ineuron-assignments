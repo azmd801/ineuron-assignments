{
  "nbformat": 4,
  "nbformat_minor": 0,
  "metadata": {
    "colab": {
      "provenance": [],
      "authorship_tag": "ABX9TyOUPFVBluhI4u0maI4rZfP7",
      "include_colab_link": true
    },
    "kernelspec": {
      "name": "python3",
      "display_name": "Python 3"
    },
    "language_info": {
      "name": "python"
    }
  },
  "cells": [
    {
      "cell_type": "markdown",
      "metadata": {
        "id": "view-in-github",
        "colab_type": "text"
      },
      "source": [
        "<a href=\"https://colab.research.google.com/github/azmd801/ineuron-assignments/blob/main/Python-Advanced%20/Assignment_19.ipynb\" target=\"_parent\"><img src=\"https://colab.research.google.com/assets/colab-badge.svg\" alt=\"Open In Colab\"/></a>"
      ]
    },
    {
      "cell_type": "markdown",
      "source": [
        "## Q1. Define the relationship between a class and its instances. Is it a one-to-one or a one-to-many partnership, for example?\n",
        "\n",
        "A: The relationship between a class and its instances is a one-to-many partnership. A class is a blueprint or template that defines the structure and behavior of objects. Instances are individual objects created from the class, each with its own data and state, based on the class definition.\n",
        "\n",
        "## Q2. What kind of data is held only in an instance?\n",
        "\n",
        "A: Instance-specific data, also known as instance variables, are held only in an instance. These variables store unique values for each object created from the class and represent the state of that object.\n",
        "\n",
        "## Q3. What kind of knowledge is stored in a class?\n",
        "\n",
        "A: Classes store shared knowledge or attributes that are common to all instances created from the class. These attributes are defined as class variables and are shared among all instances of the class.\n",
        "\n",
        "## Q4. What exactly is a method, and how is it different from a regular function?\n",
        "\n",
        "A: A method is a function that is defined within a class and operates on instances of that class. Methods are associated with objects created from the class and can access instance-specific data. Regular functions are not associated with any class and can be used independently.\n",
        "\n",
        "## Q5. Is inheritance supported in Python, and if so, what is the syntax?\n",
        "\n",
        "A: Yes, inheritance is supported in Python. The syntax for inheritance is to define a new class that inherits properties and methods from an existing class. This is done by including the parent class within parentheses after the new class's name, like: `class NewClass(ParentClass):`\n",
        "\n",
        "## Q6. How much encapsulation (making instance or class variables private) does Python support?\n",
        "\n",
        "A: Python supports limited encapsulation through name mangling. By prefixing instance variables with double underscores (e.g., `__variable`), they become \"private\" and are subject to name mangling. However, this is more of a convention, and the variables are still accessible.\n",
        "\n",
        "## Q7. How do you distinguish between a class variable and an instance variable?\n",
        "\n",
        "A: A class variable is shared among all instances of a class and is defined within the class but outside any methods. An instance variable is specific to a single instance and is created within the methods of the class, using the `self` reference.\n",
        "\n",
        "## Q8. When, if ever, can `self` be included in a class's method definitions?\n",
        "\n",
        "A: The `self` parameter is always included as the first parameter in a class's instance methods. It is used to refer to the instance itself and allows methods to access instance variables and call other methods within the same instance.\n",
        "\n",
        "## Q9. What is the difference between the `__add__` and the `__radd__` methods?\n",
        "\n",
        "A: The `__add__` method defines the behavior of the `+` operator when applied to instances of the class. The `__radd__` method is the reverse version and handles the case when the object is on the right side of the `+` operator. It is used when the left operand's `__add__` method doesn't support the operation.\n",
        "\n",
        "## Q10. When is it necessary to use a reflection method? When do you not need it, even though you support the operation in question?\n",
        "\n",
        "A: Reflection methods, like `__getattr__` and `__setattr__`, are used to intercept attribute access and assignment. They are necessary when you want to customize attribute access behavior. If you don't need to customize attribute access, you don't need to use reflection methods.\n",
        "\n",
        "## Q11. What is the `__iadd__` method called?\n",
        "\n",
        "A: The `__iadd__` method is called when the `+=` operator is used with instances of a class. It allows you to define in-place addition behavior for objects.\n",
        "\n",
        "## Q12. Is the `__init__` method inherited by subclasses? What do you do if you need to customize its behavior within a subclass?\n",
        "\n",
        "A: The `__init__` method is not automatically inherited by subclasses. If you need to customize its behavior in a subclass, you can define a new `__init__` method in the subclass. If you want to reuse the initialization logic of the parent class, you can call the parent class's `__init__` method using `super().__init__()` within the subclass's `__init__`."
      ],
      "metadata": {
        "id": "HUvyYTnPOya3"
      }
    },
    {
      "cell_type": "code",
      "source": [],
      "metadata": {
        "id": "0BkizZ26PItD"
      },
      "execution_count": null,
      "outputs": []
    }
  ]
}