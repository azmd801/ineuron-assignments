{
  "nbformat": 4,
  "nbformat_minor": 0,
  "metadata": {
    "colab": {
      "provenance": [],
      "authorship_tag": "ABX9TyMybV+8Ji5+w39JpcguJpgQ",
      "include_colab_link": true
    },
    "kernelspec": {
      "name": "python3",
      "display_name": "Python 3"
    },
    "language_info": {
      "name": "python"
    }
  },
  "cells": [
    {
      "cell_type": "markdown",
      "metadata": {
        "id": "view-in-github",
        "colab_type": "text"
      },
      "source": [
        "<a href=\"https://colab.research.google.com/github/azmd801/ineuron-assignments/blob/main/Python-Advanced%20/Assignment_13.ipynb\" target=\"_parent\"><img src=\"https://colab.research.google.com/assets/colab-badge.svg\" alt=\"Open In Colab\"/></a>"
      ]
    },
    {
      "cell_type": "markdown",
      "source": [
        "## Q1. Can you create a programme or function that employs both positive and negative indexing? Is there any repercussion if you do so?\n",
        "\n",
        "Yes, you can create a program or function that employs both positive and negative indexing to access elements in a list. Positive indexing starts from 0 for the first element, while negative indexing starts from -1 for the last element.\n",
        "\n",
        "For example:\n",
        "\n",
        "```python\n",
        "my_list = [10, 20, 30, 40, 50]\n",
        "print(my_list[0])   # Positive indexing\n",
        "print(my_list[-1])  # Negative indexing\n",
        "```\n",
        "There is no repercussion for using both positive and negative indexing in the same program or function. They are complementary ways to access elements in a list, and you can use either indexing method based on your needs.\n",
        "\n",
        "## Q2. What is the most effective way of starting with 1,000 elements in a Python list? Assume that all elements should be set to the same value.\n",
        "\n",
        "The most effective way to create a list with 1,000 elements, all set to the same value, is to use a list comprehension or the multiplication operator.\n",
        "\n",
        "Using multiplication operator:\n",
        "\n",
        "```python\n",
        "my_list = [value] * 1000\n",
        "```\n",
        "## Q3. How do you slice a list to get any other part while missing the rest? (For example, suppose you want to make a new list with the elements first, third, fifth, seventh, and so on.)\n",
        "\n",
        "You can achieve this by using slicing with a step size. To get the elements at odd indexes (1, 3, 5, 7, ...), you can use a slice with a step of 2.\n",
        "\n",
        "For example:\n",
        "\n",
        "```python\n",
        "my_list = [10, 20, 30, 40, 50, 60, 70, 80, 90]\n",
        "new_list = my_list[::2]\n",
        "print(new_list)  # Output: [10, 30, 50, 70, 90]\n",
        "```\n",
        "## Q4. Explain the distinctions between indexing and slicing.\n",
        "\n",
        "Indexing refers to accessing a specific element in a list using its position. It involves specifying the position of the desired element within square brackets (e.g., my_list[2]).\n",
        "Slicing refers to extracting a portion of a list. It involves specifying a range of positions using the syntax [start:end] to create a new list that includes elements within that range.\n",
        "## Q5. What happens if one of the slicing expression's indexes is out of range?\n",
        "\n",
        "If one of the slicing expression's indexes is out of range (i.e., less than 0 or greater than or equal to the length of the list), Python will still perform the slice operation without raising an error. It will simply consider the out-of-range index as either the beginning or the end of the list, depending on which index is out of range.\n",
        "\n",
        "## Q6. If you pass a list to a function, and if you want the function to be able to change the values of the list—so that the list is different after the function returns—what action should you avoid?\n",
        "\n",
        "If you want a function to be able to change the values of a list passed to it, you should avoid reassigning the list variable to a new list object inside the function. Instead, you can modify the elements within the list.\n",
        "\n",
        "Avoid:\n",
        "\n",
        "```python\n",
        "def modify_list(my_list):\n",
        "    my_list = [1, 2, 3]  # This creates a new list and reassigns the variable\n",
        "```\n",
        "Preferred:\n",
        "\n",
        "```python\n",
        "def modify_list(my_list):\n",
        "    my_list[0] = 100  # Modifies an element within the existing list\n",
        "```\n",
        "## Q7. What is the concept of an unbalanced matrix?\n",
        "\n",
        "An unbalanced matrix refers to a matrix where the number of rows is not equal to the number of columns. In other words, the matrix is not a square matrix. It might have more rows than columns or more columns than rows.\n",
        "\n",
        "## Q8. Why is it necessary to use either list comprehension or a loop to create arbitrarily large matrices?\n",
        "\n",
        "It's necessary to use either list comprehension or a loop to create arbitrarily large matrices because they allow you to generate and populate the matrix efficiently. By using a loop or list comprehension, you can iterate over rows and columns, creating each element and placing it in the appropriate position within the matrix. This approach is scalable and can handle matrices of varying sizes without needing to manually write each element's value.\n",
        "\n"
      ],
      "metadata": {
        "id": "vIVNUj1RjZBN"
      }
    },
    {
      "cell_type": "code",
      "source": [],
      "metadata": {
        "id": "FG0dZrtdnqZ9"
      },
      "execution_count": null,
      "outputs": []
    }
  ]
}