{
  "nbformat": 4,
  "nbformat_minor": 0,
  "metadata": {
    "colab": {
      "provenance": [],
      "authorship_tag": "ABX9TyNzDItr0o+SIJJ9lCRGqHFS",
      "include_colab_link": true
    },
    "kernelspec": {
      "name": "python3",
      "display_name": "Python 3"
    },
    "language_info": {
      "name": "python"
    }
  },
  "cells": [
    {
      "cell_type": "markdown",
      "metadata": {
        "id": "view-in-github",
        "colab_type": "text"
      },
      "source": [
        "<a href=\"https://colab.research.google.com/github/azmd801/ineuron-assignments/blob/main/DL%20theory%20/Assignment_4.ipynb\" target=\"_parent\"><img src=\"https://colab.research.google.com/assets/colab-badge.svg\" alt=\"Open In Colab\"/></a>"
      ]
    },
    {
      "cell_type": "markdown",
      "source": [
        "1. **How would you describe TensorFlow in a short sentence? What are its main features? Can you name other popular Deep Learning libraries?**\n",
        "\n",
        "   TensorFlow is an open-source machine learning framework that offers a flexible platform for building and training various machine learning models. Its main features include symbolic computation, automatic differentiation, support for both CPU and GPU computation, and tools for deploying models. Other popular deep learning libraries include PyTorch, Keras, and Theano.\n",
        "\n",
        "2. **Is TensorFlow a drop-in replacement for NumPy? What are the main differences between the two?**\n",
        "\n",
        "   TensorFlow shares some similarities with NumPy, such as n-dimensional arrays (tensors). However, TensorFlow is more focused on building machine learning models and supports GPU acceleration. While NumPy provides an imperative programming style, TensorFlow uses a declarative style with computation graphs.\n",
        "\n",
        "3. **Do you get the same result with `tf.range(10)` and `tf.constant(np.arange(10))`?**\n",
        "\n",
        "   Yes, you would get similar results from both `tf.range(10)` and `tf.constant(np.arange(10))`. The first call generates a tensor with values 0 to 9, while the second one constructs a tensor using NumPy's array. The results would be equivalent but in TensorFlow's tensor format.\n",
        "\n",
        "4. **Can you name six other data structures available in TensorFlow, beyond regular tensors?**\n",
        "\n",
        "   - **Sparse Tensors:** Tensors optimized for representing sparse data.\n",
        "   - **Ragged Tensors:** Tensors with non-uniform shapes along an axis.\n",
        "   - **Tensor Arrays:** Lists of tensors with varying shapes.\n",
        "   - **String Tensors:** Tensors for handling text data.\n",
        "   - **Queues:** For managing asynchronous computations.\n",
        "   - **Dense Features:** Input data from different sources or types.\n",
        "\n",
        "5. **A custom loss function can be defined by writing a function or by subclassing the `keras.losses.Loss` class. When would you use each option?**\n",
        "\n",
        "   - **Writing a Function:** Use when the loss can be computed from the true and predicted values directly.\n",
        "   - **Subclassing `keras.losses.Loss`:** Use when you need additional internal state, hyperparameters, or custom behavior for computing the loss.\n",
        "\n",
        "6. **Similarly, a custom metric can be defined in a function or a subclass of `keras.metrics.Metric`. When would you use each option?**\n",
        "\n",
        "   - **Writing a Function:** Use for simple metrics that can be computed directly from true and predicted values.\n",
        "   - **Subclassing `keras.metrics.Metric`:** Use for more complex metrics that require state accumulation across batches or custom behavior.\n",
        "\n",
        "7. **When should you create a custom layer versus a custom model?**\n",
        "\n",
        "   - **Custom Layer:** Use when you need to create a reusable building block with learnable parameters. For example, custom activation functions, attention mechanisms, or normalization layers.\n",
        "   - **Custom Model:** Use when you need to define a specific neural network architecture that combines multiple layers. For example, a sequence-to-sequence model or a GAN.\n",
        "\n",
        "8. **What are some use cases that require writing your own custom training loop?**\n",
        "\n",
        "   - Implementing advanced training strategies not available through built-in APIs.\n",
        "   - Incorporating complex learning rate schedules or gradient clipping.\n",
        "   - Implementing specialized loss functions or regularization techniques.\n",
        "   - Handling distributed training with custom communication patterns.\n",
        "\n",
        "9. **Can custom Keras components contain arbitrary Python code, or must they be convertible to TF Functions?**\n",
        "\n",
        "   Custom Keras components need to be convertible to TensorFlow's graph operations or TF Functions to take advantage of TensorFlow's graph optimization and execution benefits.\n",
        "\n",
        "10. **What are the main rules to respect if you want a function to be convertible to a TF Function?**\n",
        "\n",
        "    Functions convertible to TF Functions should avoid using any form of Python control flow (like `if`, `for`, `while`), and operations inside the function should be compatible with TensorFlow's graph execution.\n",
        "\n",
        "11. **When would you need to create a dynamic Keras model? How do you do that? Why not make all your models dynamic?**\n",
        "\n",
        "    Dynamic Keras models are useful when the architecture or computation graph of the model can change between training and inference. You can create a dynamic model by specifying `dynamic=True` when constructing layers that support it. Not all models need to be dynamic; static models offer better performance optimization opportunities."
      ],
      "metadata": {
        "id": "46aHudWgHiYn"
      }
    },
    {
      "cell_type": "code",
      "source": [],
      "metadata": {
        "id": "-uGLKNztHmtH"
      },
      "execution_count": null,
      "outputs": []
    }
  ]
}