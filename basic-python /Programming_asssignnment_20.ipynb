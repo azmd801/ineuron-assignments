{
  "cells": [
    {
      "cell_type": "markdown",
      "metadata": {
        "id": "view-in-github",
        "colab_type": "text"
      },
      "source": [
        "<a href=\"https://colab.research.google.com/github/azmd801/ineuron-assignments/blob/main/basic-python%20/Programming_asssignnment_20.ipynb\" target=\"_parent\"><img src=\"https://colab.research.google.com/assets/colab-badge.svg\" alt=\"Open In Colab\"/></a>"
      ]
    },
    {
      "cell_type": "markdown",
      "id": "a8f8fbbc",
      "metadata": {
        "id": "a8f8fbbc"
      },
      "source": [
        "# Question 1"
      ]
    },
    {
      "cell_type": "code",
      "execution_count": null,
      "id": "fa960487",
      "metadata": {
        "id": "fa960487"
      },
      "outputs": [],
      "source": [
        "def filter_list(lst):\n",
        "    return [i for i in lst if type(i) == int]\n",
        "\n",
        "# Test the function\n",
        "print(filter_list([1, 2, 3, \"a\", \"b\", 4]))\n",
        "print(filter_list([\"A\", 0, \"Edabit\", 1729, \"Python\", \"1729\"]))\n",
        "print(filter_list([\"Nothing\", \"here\"]))\n"
      ]
    },
    {
      "cell_type": "markdown",
      "id": "b749e489",
      "metadata": {
        "id": "b749e489"
      },
      "source": [
        "# Question 2"
      ]
    },
    {
      "cell_type": "code",
      "execution_count": null,
      "id": "c259d26b",
      "metadata": {
        "id": "c259d26b"
      },
      "outputs": [],
      "source": [
        "def add_indexes(lst):\n",
        "    return [val + idx for idx, val in enumerate(lst)]\n",
        "\n",
        "# Test the function\n",
        "print(add_indexes([0, 0, 0, 0, 0]))\n",
        "print(add_indexes([1, 2, 3, 4, 5]))\n",
        "print(add_indexes([5, 4, 3, 2, 1]))\n"
      ]
    },
    {
      "cell_type": "markdown",
      "id": "aa250f22",
      "metadata": {
        "id": "aa250f22"
      },
      "source": [
        "# Question 3"
      ]
    },
    {
      "cell_type": "code",
      "execution_count": null,
      "id": "fba200b3",
      "metadata": {
        "id": "fba200b3"
      },
      "outputs": [],
      "source": [
        "from math import pi\n",
        "\n",
        "def cone_volume(h, r):\n",
        "    return round((1/3) * pi * r**2 * h, 2)\n",
        "\n",
        "# Test the function\n",
        "print(cone_volume(3, 2))\n",
        "print(cone_volume(15, 6))\n",
        "print(cone_volume(18, 0))\n"
      ]
    },
    {
      "cell_type": "markdown",
      "id": "f2d848ff",
      "metadata": {
        "id": "f2d848ff"
      },
      "source": [
        "# Question 4"
      ]
    },
    {
      "cell_type": "code",
      "execution_count": null,
      "id": "8a212599",
      "metadata": {
        "id": "8a212599"
      },
      "outputs": [],
      "source": [
        "def triangle(n):\n",
        "    return n * (n + 1) // 2\n",
        "\n",
        "# Test the function\n",
        "print(triangle(1))\n",
        "print(triangle(6))\n",
        "print(triangle(215))\n"
      ]
    },
    {
      "cell_type": "markdown",
      "id": "c90178c6",
      "metadata": {
        "id": "c90178c6"
      },
      "source": [
        "# Question 5"
      ]
    },
    {
      "cell_type": "code",
      "execution_count": null,
      "id": "634541ba",
      "metadata": {
        "id": "634541ba"
      },
      "outputs": [],
      "source": [
        "def missing_num(lst):\n",
        "    return 55 - sum(lst)\n",
        "\n",
        "# Test the function\n",
        "print(missing_num([1, 2, 3, 4, 6, 7, 8, 9, 10]))\n",
        "print(missing_num([7, 2, 3, 6, 5, 9, 1, 4, 8]))\n",
        "print(missing_num([10, 5, 1, 2, 4, 6, 8, 3, 9]))\n"
      ]
    }
  ],
  "metadata": {
    "colab": {
      "provenance": [],
      "include_colab_link": true
    }
  },
  "nbformat": 4,
  "nbformat_minor": 5
}