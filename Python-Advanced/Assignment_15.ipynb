{
  "nbformat": 4,
  "nbformat_minor": 0,
  "metadata": {
    "colab": {
      "provenance": [],
      "authorship_tag": "ABX9TyPsjjf27RaKJDst3aCie8Y4",
      "include_colab_link": true
    },
    "kernelspec": {
      "name": "python3",
      "display_name": "Python 3"
    },
    "language_info": {
      "name": "python"
    }
  },
  "cells": [
    {
      "cell_type": "markdown",
      "metadata": {
        "id": "view-in-github",
        "colab_type": "text"
      },
      "source": [
        "<a href=\"https://colab.research.google.com/github/azmd801/ineuron-assignments/blob/main/Python-Advanced/Assignment_15.ipynb\" target=\"_parent\"><img src=\"https://colab.research.google.com/assets/colab-badge.svg\" alt=\"Open In Colab\"/></a>"
      ]
    },
    {
      "cell_type": "markdown",
      "source": [
        "## Q1. What are some of the new features introduced in Python 3.8?\n",
        "\n",
        "A: Python 3.8 introduced several new features and improvements, including:\n",
        "\n",
        "- Assignment Expressions (Walrus Operator: :=)\n",
        "- Positional-only Parameters\n",
        "- f-strings now support the = specifier for debugging\n",
        "- New syntax warning using SyntaxWarning\n",
        "- The math.prod() function for calculating the product of items in an iterable\n",
        "- The functools.cached_property decorator for creating read-only instance attributes\n",
        "- New syntax features like the __future__ module, which allows you to enable features from future versions of Python\n",
        "\n",
        "## Q2. Define monkey patching and explain its use cases.\n",
        "\n",
        "A: Monkey patching refers to the practice of modifying or extending the behavior of modules or classes at runtime. This is often done by adding, modifying, or replacing methods or attributes of existing classes or modules. While monkey patching can be useful for adding functionality or fixing bugs in third-party libraries, it should be used with caution as it can lead to unexpected behavior and compatibility issues.\n",
        "\n",
        "## Q3. What is the difference between a shallow copy and a deep copy? How do they handle nested objects?\n",
        "\n",
        "A: Shallow Copy: A shallow copy creates a new object, but the elements inside the object are still references to the elements of the original object. Changes to nested objects are reflected in both the original and copied objects.\n",
        "\n",
        "Deep Copy: A deep copy creates a new object and recursively copies all nested objects as well. This results in a completely independent copy where changes to nested objects do not affect the original object or other copies.\n",
        "\n",
        "## Q4. What is the maximum length of an identifier in Python 3.8?\n",
        "\n",
        "A: In Python, the maximum length of an identifier (variable, function, class name, etc.) is determined by the implementation. However, as of the Python 3.8 version, the maximum length is 255 characters.\n",
        "\n",
        "## Q5. Explain what generator comprehension is and how it differs from list comprehension.\n",
        "\n",
        "A: Generator comprehension is a concise way to create generators, which are memory-efficient iterators, using a compact syntax. It follows a similar syntax to list comprehension but produces a generator object instead of a list. Generator comprehensions are enclosed in parentheses and use the same syntax as list comprehensions. The key difference is that generator comprehensions do not create the entire sequence in memory at once, making them suitable for large datasets.\n",
        "\n",
        "Example:\n",
        "\n",
        "```python\n",
        "generator = (x * 2 for x in range(10))\n",
        "for num in generator:\n",
        "    print(num)\n",
        "```"
      ],
      "metadata": {
        "id": "_vpbmQtwwfi0"
      }
    }
  ]
}